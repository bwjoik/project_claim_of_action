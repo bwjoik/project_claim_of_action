{
 "cells": [
  {
   "cell_type": "code",
   "execution_count": null,
   "metadata": {},
   "outputs": [],
   "source": [
    "from transformers import M2M100ForConditionalGeneration, M2M100Tokenizer\n",
    "import torch\n",
    "\n",
    "model = M2M100ForConditionalGeneration.from_pretrained(\"original_model/m2m100_1.2B\")\n",
    "tokenizer = M2M100Tokenizer.from_pretrained(\"original_model/m2m100_1.2B\")\n",
    "\n",
    "# 確保模型在 GPU 上\n",
    "device = torch.device('cuda' if torch.cuda.is_available() else 'cpu')\n",
    "model = model.to(device)\n",
    "\n",
    "\n",
    "# 創建一個簡單的輸入\n",
    "tokenizer.src_lang = \"en\"\n",
    "input_text = \"thank you eggplant!\"\n",
    "\n",
    "encoded_input = tokenizer(input_text, return_tensors=\"pt\").to(device)  # 確保輸入也在 GPU 上\n",
    "\n",
    "\n",
    "\n",
    "\n",
    "# 嘗試運行模型\n",
    "with torch.no_grad():\n",
    "    output = model.generate(encoded_input[\"input_ids\"])\n",
    "\n",
    "\n",
    "# 解碼輸出\n",
    "tokenizer.tgt_lang = \"zh\"\n",
    "decoded_output = tokenizer.decode(output[0], skip_special_tokens=True)\n",
    "print(decoded_output)  # 你好，世界！\n",
    "\n"
   ]
  },
  {
   "cell_type": "code",
   "execution_count": null,
   "metadata": {},
   "outputs": [],
   "source": []
  }
 ],
 "metadata": {
  "kernelspec": {
   "display_name": ".venv",
   "language": "python",
   "name": "python3"
  },
  "language_info": {
   "codemirror_mode": {
    "name": "ipython",
    "version": 3
   },
   "file_extension": ".py",
   "mimetype": "text/x-python",
   "name": "python",
   "nbconvert_exporter": "python",
   "pygments_lexer": "ipython3",
   "version": "3.9.7"
  }
 },
 "nbformat": 4,
 "nbformat_minor": 2
}
