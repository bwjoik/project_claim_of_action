{
 "cells": [
  {
   "cell_type": "code",
   "execution_count": 1,
   "metadata": {},
   "outputs": [
    {
     "name": "stdout",
     "output_type": "stream",
     "text": [
      "# jionlp - 微信公众号: JioNLP  Github: `https://github.com/dongrixinyu/JioNLP`.\n",
      "# jiojio - `http://www.jionlp.com/jionlp_online/cws_pos` is available for online trial.\n"
     ]
    }
   ],
   "source": [
    "import os\n",
    "import json\n",
    "import re\n",
    "import pandas as pd\n",
    "import numpy as np\n",
    "import csv\n",
    "import torch\n",
    "import jionlp as jio\n",
    "from torch.optim.lr_scheduler import LambdaLR, StepLR, MultiStepLR, ExponentialLR, ReduceLROnPlateau \n",
    "from rouge_score import rouge_scorer\n",
    "from datasets import load_metric"
   ]
  },
  {
   "cell_type": "code",
   "execution_count": 2,
   "metadata": {},
   "outputs": [],
   "source": [
    "#create a new dataframe empty \n",
    "# month_list = ['01','02','03','04','05','06','07','08','09','10','11','12']\n",
    "month_list = ['01']\n",
    "\n",
    "with open('dataset/dataset_training/202312.csv',encoding=\"utf-8-sig\") as f:\n",
    "    data = pd.read_csv(f)\n",
    "    data.head()\n",
    "with open('hyperparameters.json', 'r') as f:\n",
    "    hyperparameters = json.load(f)\n",
    "\n",
    "\n",
    "learning_rate = hyperparameters['learning_rate']\n",
    "batch_size = hyperparameters['batch_size']\n",
    "num_epochs = hyperparameters['num_epochs']\n"
   ]
  },
  {
   "cell_type": "code",
   "execution_count": 3,
   "metadata": {},
   "outputs": [],
   "source": [
    "from transformers import T5Tokenizer, T5ForConditionalGeneration\n",
    "# load the model and tokenizer\n",
    "model = T5ForConditionalGeneration.from_pretrained(\"original_model/ChatYuan-large-v2\")\n",
    "tokenizer = T5Tokenizer.from_pretrained(\"original_model/ChatYuan-large-v2\")\n",
    "\n",
    "from torch.utils.tensorboard import SummaryWriter\n",
    "\n",
    "writer = SummaryWriter('runs/model')"
   ]
  },
  {
   "cell_type": "code",
   "execution_count": null,
   "metadata": {},
   "outputs": [],
   "source": [
    "#column p_claim is the answer  and column p_fact is the question\n",
    "data = data[['p_claim', 'p_fact']]\n",
    "data = data.rename(columns={'p_claim': 'answer', 'p_fact': 'question'})\n",
    "data = data.dropna()\n",
    "data = data.reset_index(drop=True)\n",
    "data.head()\n",
    " \n",
    "data['question'] = data['question'].apply(lambda x: jio.clean_text(x))\n",
    "data['answer'] = data['answer'].apply(lambda x: jio.clean_text(x))\n",
    "data['question'] = data['question'].apply(lambda x: re.sub(r'\\s+', ' ', x))\n",
    "data['answer'] = data['answer'].apply(lambda x: re.sub(r'\\s+', ' ', x))"
   ]
  },
  {
   "cell_type": "code",
   "execution_count": null,
   "metadata": {},
   "outputs": [],
   "source": [
    "#split the data into training and testing\n",
    "from sklearn.model_selection import train_test_split\n",
    "train, test = train_test_split(data, test_size=0.2, random_state=42)"
   ]
  },
  {
   "cell_type": "code",
   "execution_count": null,
   "metadata": {},
   "outputs": [],
   "source": [
    "def preporcessing(data):\n",
    "    #tokenize the data\n",
    "    inputs = tokenizer(data['question'].tolist(), return_tensors='pt', padding=\"max_length\", truncation=True, max_length=128)\n",
    "    targets = tokenizer(data['answer'].tolist(), return_tensors='pt', padding=\"max_length\", truncation=True, max_length=128)\n",
    "    return inputs, targets\n",
    "\n",
    "train_inputs, train_targets = preporcessing(train)\n",
    "test_inputs, test_targets = preporcessing(test)\n",
    "\n",
    "from torch.utils.data import Dataset, DataLoader\n",
    "class CustomDataset(Dataset):\n",
    "    def __init__(self, inputs, targets):\n",
    "        self.inputs = inputs\n",
    "        self.targets = targets\n",
    "\n",
    "    def __len__(self):\n",
    "        return len(self.inputs['input_ids'])\n",
    "\n",
    "    def __getitem__(self, idx):\n",
    "        input_ids = self.inputs['input_ids'][idx]\n",
    "        attention_mask = self.inputs['attention_mask'][idx]\n",
    "        labels = self.targets['input_ids'][idx]\n",
    "        labels[labels == 0] = -100\n",
    "        return {'input_ids': input_ids, 'attention_mask': attention_mask, 'labels': labels}\n",
    "    \n",
    "train_dataset = CustomDataset(train_inputs, train_targets)\n",
    "test_dataset = CustomDataset(test_inputs, test_targets)\n",
    "\n",
    "train_loader = DataLoader(train_dataset, batch_size=8, shuffle=True)\n",
    "test_loader = DataLoader(test_dataset, batch_size=8, shuffle=False)\n",
    "\n",
    "from transformers import Trainer, TrainingArguments\n",
    "\n",
    "training_args = TrainingArguments(\n",
    "    output_dir='./results',          # output directory\n",
    "    num_train_epochs=3,              # total number of training epochs\n",
    "    per_device_train_batch_size=16,  # batch size per device during training\n",
    "    per_device_eval_batch_size=64,   # batch size for evaluation\n",
    "    warmup_steps=500,                # number of warmup steps for learning rate scheduler\n",
    "    weight_decay=0.01,               # strength of weight decay\n",
    "    logging_dir='./logs',            # directory for storing logs\n",
    ")\n",
    "\n",
    "\n",
    "trainer = Trainer(\n",
    "    model=model,                         # the instantiated 🤗 Transformers model to be trained\n",
    "    args=training_args,                  # training arguments, defined above\n",
    "    train_dataset=train_dataset,         # training dataset\n",
    "    eval_dataset=test_dataset            # evaluation dataset\n",
    ")\n",
    "\n",
    "trainer.train()\n",
    "device = torch.device('cuda')\n",
    "model.to(device)\n",
    "train_result = trainer.train()\n",
    "eval_result = trainer.evaluate()\n",
    "\n",
    "model.save_pretrained('trained_model/model4')\n",
    "tokenizer.save_pretrained('trained_model/model4')\n",
    "\n"
   ]
  },
  {
   "cell_type": "code",
   "execution_count": null,
   "metadata": {},
   "outputs": [],
   "source": [
    "metric = load_metric(\"sacrebleu\")\n",
    "model.eval()\n",
    "predictions = []\n",
    "labels = []\n",
    "for batch in test_loader:\n",
    "    input_ids = batch['input_ids'].to(device)\n",
    "    attention_mask = batch['attention_mask'].to(device)\n",
    "    labels_ids = batch['labels'].to(device)\n",
    "    output = model.generate(input_ids, attention_mask=attention_mask)\n",
    "    predictions.extend(tokenizer.batch_decode(output, skip_special_tokens=True))\n",
    "    labels.extend(tokenizer.batch_decode(labels_ids, skip_special_tokens=True))\n",
    "\n",
    "\n",
    "scorer = rouge_scorer.RougeScorer(['rouge1', 'rouge2', 'rougeL'], use_stemmer=True)\n",
    "scores = []\n",
    "for i in range(len(predictions)):\n",
    "    scores.append(scorer.score(predictions[i], labels[i]))\n",
    "\n",
    "rouge1 = [score['rouge1'].fmeasure for score in scores]\n",
    "rouge2 = [score['rouge2'].fmeasure for score in scores]\n",
    "rougeL = [score['rougeL'].fmeasure for score in scores]\n",
    "\n",
    "np.mean(rouge1), np.mean(rouge2), np.mean(rougeL)"
   ]
  }
 ],
 "metadata": {
  "kernelspec": {
   "display_name": ".venv",
   "language": "python",
   "name": "python3"
  },
  "language_info": {
   "codemirror_mode": {
    "name": "ipython",
    "version": 3
   },
   "file_extension": ".py",
   "mimetype": "text/x-python",
   "name": "python",
   "nbconvert_exporter": "python",
   "pygments_lexer": "ipython3",
   "version": "3.9.7"
  }
 },
 "nbformat": 4,
 "nbformat_minor": 2
}
