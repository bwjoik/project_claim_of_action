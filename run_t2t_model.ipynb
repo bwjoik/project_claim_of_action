{
 "cells": [
  {
   "cell_type": "code",
   "execution_count": null,
   "metadata": {},
   "outputs": [],
   "source": [
    "import os\n",
    "import json\n",
    "import re\n",
    "import pandas as pd\n",
    "import numpy as np\n",
    "import csv\n",
    "import torch\n",
    "import jionlp as jio\n",
    "from torch.optim.lr_scheduler import LambdaLR, StepLR, MultiStepLR, ExponentialLR, ReduceLROnPlateau \n",
    "\n",
    "from transformers import AutoTokenizer, AutoModelForSeq2SeqLM \n",
    "# load the model and tokenizer\n",
    "\n",
    "tokenizer = AutoTokenizer.from_pretrained(\"trained_model/model4\")\n",
    "device = torch.device('cuda')\n",
    "#change the model here\n",
    "model = AutoModelForSeq2SeqLM.from_pretrained('trained_model/model4')"
   ]
  },
  {
   "cell_type": "code",
   "execution_count": null,
   "metadata": {},
   "outputs": [],
   "source": [
    "def generate_answer(question):\n",
    "    inputs = tokenizer(question, return_tensors='pt', padding=True, truncation=True, max_length=256).to(device)\n",
    "    out = model.generate(**inputs)\n",
    "    return tokenizer.decode(out[0], skip_special_tokens=True)"
   ]
  },
  {
   "cell_type": "code",
   "execution_count": null,
   "metadata": {},
   "outputs": [],
   "source": [
    "\n",
    "model = model.to(device)\n",
    "question = '房東甲乙丙丁，出租未保存登記的建物出租給某藥師戊，戊於簽約時即將其妻子己列為連帶保證人，雙雙用印。豈料，藥師戊因為積欠大筆債務，遂將租賃建物一半違法轉租租給花店庚，但仍無法負擔大筆債務，於租賃期限到期前跑路。到期後房東請求藥師搬遷，豈料建物中找不到藥師，手機電話也連絡不上。房東遂起訴妻子己及次承租人庚騰空建物，妻子己作為連帶保證人應依約給付為限期遷出的違約金。'\n",
    "generate_answer(question)\n"
   ]
  },
  {
   "cell_type": "code",
   "execution_count": null,
   "metadata": {},
   "outputs": [],
   "source": [
    "metric = load_metric(\"sacrebleu\")\n",
    "model.eval()\n",
    "predictions = []\n",
    "labels = []\n",
    "for batch in test_loader:\n",
    "    input_ids = batch['input_ids'].to(device)\n",
    "    attention_mask = batch['attention_mask'].to(device)\n",
    "    labels_ids = batch['labels'].to(device)\n",
    "    output = model.generate(input_ids, attention_mask=attention_mask)\n",
    "    predictions.extend(tokenizer.batch_decode(output, skip_special_tokens=True))\n",
    "    labels.extend(tokenizer.batch_decode(labels_ids, skip_special_tokens=True))\n",
    "\n",
    "\n",
    "scorer = rouge_scorer.RougeScorer(['rouge1', 'rouge2', 'rougeL'], use_stemmer=True)\n",
    "scores = []\n",
    "for i in range(len(predictions)):\n",
    "    scores.append(scorer.score(predictions[i], labels[i]))\n",
    "\n",
    "rouge1 = [score['rouge1'].fmeasure for score in scores]\n",
    "rouge2 = [score['rouge2'].fmeasure for score in scores]\n",
    "rougeL = [score['rougeL'].fmeasure for score in scores]\n",
    "\n",
    "np.mean(rouge1), np.mean(rouge2), np.mean(rougeL)"
   ]
  }
 ],
 "metadata": {
  "kernelspec": {
   "display_name": ".venv",
   "language": "python",
   "name": "python3"
  },
  "language_info": {
   "codemirror_mode": {
    "name": "ipython",
    "version": 3
   },
   "file_extension": ".py",
   "mimetype": "text/x-python",
   "name": "python",
   "nbconvert_exporter": "python",
   "pygments_lexer": "ipython3",
   "version": "3.9.7"
  }
 },
 "nbformat": 4,
 "nbformat_minor": 2
}
