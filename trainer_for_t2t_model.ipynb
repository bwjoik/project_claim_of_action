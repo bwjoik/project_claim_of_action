{
 "cells": [
  {
   "cell_type": "code",
   "execution_count": 1,
   "metadata": {},
   "outputs": [
    {
     "name": "stdout",
     "output_type": "stream",
     "text": [
      "# jionlp - 微信公众号: JioNLP  Github: `https://github.com/dongrixinyu/JioNLP`.\n",
      "# jiojio - `http://www.jionlp.com/jionlp_online/cws_pos` is available for online trial.\n"
     ]
    },
    {
     "name": "stderr",
     "output_type": "stream",
     "text": [
      "d:\\PROGGRAMING\\claim of aciton\\project_claim_of_action\\.venv\\lib\\site-packages\\tqdm\\auto.py:21: TqdmWarning: IProgress not found. Please update jupyter and ipywidgets. See https://ipywidgets.readthedocs.io/en/stable/user_install.html\n",
      "  from .autonotebook import tqdm as notebook_tqdm\n"
     ]
    }
   ],
   "source": [
    "import os\n",
    "import json\n",
    "import re\n",
    "import pandas as pd\n",
    "import numpy as np\n",
    "import csv\n",
    "import torch\n",
    "import jionlp as jio\n",
    "from torch.optim.lr_scheduler import LambdaLR, StepLR, MultiStepLR, ExponentialLR, ReduceLROnPlateau \n",
    "from rouge_score import rouge_scorer\n",
    "from datasets import load_metric\n",
    "from torch.cuda import  amp\n",
    "from tqdm import tqdm\n",
    "\n",
    "#read data from csv base on month and save in to  one datadrame\n"
   ]
  },
  {
   "cell_type": "code",
   "execution_count": 2,
   "metadata": {},
   "outputs": [],
   "source": [
    "month_list = ['01','02','03','04','05','06','07','08','09','10','11','12']\n",
    "for month in month_list:\n",
    "    df = pd.read_csv(f'./dataset/dataset_training/2023{month}.csv')\n",
    "    if month == '01':\n",
    "        df_all = df\n",
    "    else:\n",
    "        df_all = pd.concat([df_all, df], axis=0)"
   ]
  },
  {
   "cell_type": "code",
   "execution_count": 3,
   "metadata": {},
   "outputs": [],
   "source": [
    "from transformers import AutoTokenizer, AutoModelForSeq2SeqLM\n",
    "tokenizer = AutoTokenizer.from_pretrained(\"original_model/m2m100_418M\")\n",
    "model = AutoModelForSeq2SeqLM.from_pretrained(\"original_model/m2m100_418M\")\n",
    "from torch.utils.tensorboard import SummaryWriter\n",
    "\n",
    "writer = SummaryWriter('runs/model5')"
   ]
  },
  {
   "cell_type": "code",
   "execution_count": 4,
   "metadata": {},
   "outputs": [],
   "source": [
    "max_length = 256\n",
    "num_epochs = 10\n",
    "learning_rate = 1e-4\n",
    "batch_size = 12"
   ]
  },
  {
   "cell_type": "code",
   "execution_count": 5,
   "metadata": {},
   "outputs": [],
   "source": [
    "data = df_all[['p_claim', 'p_fact']]\n",
    "data = data.rename(columns={'p_claim': 'answer', 'p_fact': 'question'})\n",
    "data = data.dropna()\n",
    "data = data.reset_index(drop=True)\n",
    "data['question'] = data['question'].apply(lambda x: jio.clean_text(x))\n",
    "data['answer'] = data['answer'].apply(lambda x: jio.clean_text(x))\n",
    "data['question'] = data['question'].apply(lambda x: re.sub(r'\\s+', ' ', x))\n",
    "data['answer'] = data['answer'].apply(lambda x: re.sub(r'\\s+', ' ', x))\n",
    "#turn the data into a dataset\n",
    "from datasets import Dataset\n",
    "dataset = Dataset.from_pandas(data)\n",
    "dataset = dataset.train_test_split(test_size=0.2)"
   ]
  },
  {
   "cell_type": "code",
   "execution_count": 6,
   "metadata": {},
   "outputs": [
    {
     "name": "stderr",
     "output_type": "stream",
     "text": [
      "Map: 100%|██████████| 42647/42647 [00:36<00:00, 1160.37 examples/s]\n",
      "Map: 100%|██████████| 10662/10662 [00:08<00:00, 1232.15 examples/s]\n"
     ]
    }
   ],
   "source": [
    "#tokenize the data\n",
    "def process_data_to_model_inputs(batch):\n",
    "\n",
    "    # tokenize the inputs and labels\n",
    "    inputs = tokenizer(batch[\"question\"], padding=\"max_length\", truncation=True, max_length=max_length)\n",
    "    outputs = tokenizer(batch[\"answer\"], padding=\"max_length\", truncation=True, max_length=max_length)\n",
    "\n",
    "    batch[\"input_ids\"] = inputs.input_ids\n",
    "    batch[\"attention_mask\"] = inputs.attention_mask\n",
    "    batch[\"labels\"] = outputs.input_ids\n",
    "    batch[\"decoder_attention_mask\"] = outputs.attention_mask\n",
    "\n",
    "    return batch\n",
    "\n",
    "\n",
    "dataset = dataset.map(\n",
    "    process_data_to_model_inputs,\n",
    "    batched=True,\n",
    "    batch_size=batch_size,\n",
    "    remove_columns=[\"question\", \"answer\"]\n",
    ")"
   ]
  },
  {
   "cell_type": "code",
   "execution_count": 7,
   "metadata": {},
   "outputs": [
    {
     "name": "stderr",
     "output_type": "stream",
     "text": [
      "d:\\PROGGRAMING\\claim of aciton\\project_claim_of_action\\.venv\\lib\\site-packages\\accelerate\\accelerator.py:432: FutureWarning: Passing the following arguments to `Accelerator` is deprecated and will be removed in version 1.0 of Accelerate: dict_keys(['dispatch_batches', 'split_batches', 'even_batches', 'use_seedable_sampler']). Please pass an `accelerate.DataLoaderConfiguration` instead: \n",
      "dataloader_config = DataLoaderConfiguration(dispatch_batches=None, split_batches=False, even_batches=True, use_seedable_sampler=True)\n",
      "  warnings.warn(\n",
      " 50%|█████     | 500/1000 [35:36<36:06,  4.33s/it]  "
     ]
    },
    {
     "name": "stdout",
     "output_type": "stream",
     "text": [
      "{'loss': 5.3047, 'grad_norm': 13.844526290893555, 'learning_rate': 1.24e-05, 'epoch': 0.14}\n"
     ]
    },
    {
     "name": "stderr",
     "output_type": "stream",
     "text": [
      "Some non-default generation parameters are set in the model config. These should go into a GenerationConfig file (https://huggingface.co/docs/transformers/generation_strategies#save-a-custom-decoding-strategy-with-your-model) instead. This warning will be raised to an exception in v4.41.\n",
      "Non-default generation parameters: {'max_length': 200, 'early_stopping': True, 'num_beams': 5}\n"
     ]
    }
   ],
   "source": [
    "#load the model\n",
    "from sklearn import metrics\n",
    "from transformers import Seq2SeqTrainer, Seq2SeqTrainingArguments\n",
    "from transformers import EarlyStoppingCallback\n",
    "\n",
    "\n",
    "\n",
    "training_args = Seq2SeqTrainingArguments(\n",
    "    output_dir=\"./results\",\n",
    "    evaluation_strategy=\"steps\",\n",
    "    per_device_train_batch_size=batch_size,\n",
    "    per_device_eval_batch_size=batch_size,\n",
    "    predict_with_generate=True,\n",
    "    warmup_steps=500,\n",
    "    eval_steps=500,\n",
    "    max_steps=8000,\n",
    "\n",
    "    fp16=True\n",
    "\n",
    ")\n",
    "\n",
    "#use amp to train the model\n",
    "scaler = amp.GradScaler()\n",
    "trainer = Seq2SeqTrainer(\n",
    "    model=model,\n",
    "    tokenizer=tokenizer,\n",
    "    args=training_args,\n",
    "    train_dataset=dataset[\"train\"],\n",
    "    eval_dataset=dataset[\"test\"],\n",
    "    \n",
    "    )\n",
    "\n",
    "trainer.train()\n"
   ]
  },
  {
   "cell_type": "code",
   "execution_count": null,
   "metadata": {},
   "outputs": [],
   "source": [
    "\n",
    "model.save_pretrained('trained_model/model5')\n",
    "tokenizer.save_pretrained('trained_model/model5')\n"
   ]
  }
 ],
 "metadata": {
  "kernelspec": {
   "display_name": ".venv",
   "language": "python",
   "name": "python3"
  },
  "language_info": {
   "codemirror_mode": {
    "name": "ipython",
    "version": 3
   },
   "file_extension": ".py",
   "mimetype": "text/x-python",
   "name": "python",
   "nbconvert_exporter": "python",
   "pygments_lexer": "ipython3",
   "version": "3.9.7"
  }
 },
 "nbformat": 4,
 "nbformat_minor": 2
}
