{
 "cells": [
  {
   "cell_type": "code",
   "execution_count": null,
   "metadata": {},
   "outputs": [],
   "source": [
    "import re\n",
    "import pandas as pd\n",
    "import numpy as np\n",
    "\n",
    "import jionlp as jio\n",
    "from torch.optim.lr_scheduler import LambdaLR, StepLR, MultiStepLR, ExponentialLR, ReduceLROnPlateau \n",
    "from rouge_score import rouge_scorer\n",
    "from datasets import load_metric\n",
    "from torch.cuda import  amp\n",
    "from tqdm import tqdm\n",
    "\n",
    "#read data from csv base on month and save in to  one datadrame\n"
   ]
  },
  {
   "cell_type": "code",
   "execution_count": null,
   "metadata": {},
   "outputs": [],
   "source": [
    "month_list = ['01','02','03','04','05','06','07','08','09','10','11','12']\n",
    "for month in month_list:\n",
    "    df = pd.read_csv(f'./dataset/dataset_training/2023{month}.csv')\n",
    "    if month == '01':\n",
    "        df_all = df\n",
    "    else:\n",
    "        df_all = pd.concat([df_all, df], axis=0)"
   ]
  },
  {
   "cell_type": "code",
   "execution_count": null,
   "metadata": {},
   "outputs": [],
   "source": [
    "from transformers import AutoTokenizer, AutoModelForSeq2SeqLM\n",
    "tokenizer = AutoTokenizer.from_pretrained(\"original_model/small_helmet_418M\")\n",
    "model = AutoModelForSeq2SeqLM.from_pretrained(\"original_model/small_helmet_418M\")\n",
    "from torch.utils.tensorboard import SummaryWriter\n",
    "\n",
    "writer = SummaryWriter('runs/small_helmet_418M')"
   ]
  },
  {
   "cell_type": "markdown",
   "metadata": {},
   "source": [
    "# 超參數設置"
   ]
  },
  {
   "cell_type": "code",
   "execution_count": null,
   "metadata": {},
   "outputs": [],
   "source": [
    "max_length = 256\n",
    "num_epochs = 10\n",
    "learning_rate = 1e-4\n",
    "batch_size = 16"
   ]
  },
  {
   "cell_type": "code",
   "execution_count": null,
   "metadata": {},
   "outputs": [],
   "source": [
    "data = df_all[['p_claim', 'p_fact']]\n",
    "data = data.rename(columns={'p_claim': 'answer', 'p_fact': 'question'})\n",
    "data = data.dropna()\n",
    "data = data.reset_index(drop=True)\n",
    "data['question'] = data['question'].apply(lambda x: jio.clean_text(x))\n",
    "data['answer'] = data['answer'].apply(lambda x: jio.clean_text(x))\n",
    "data['question'] = data['question'].apply(lambda x: re.sub(r'\\s+', ' ', x))\n",
    "data['answer'] = data['answer'].apply(lambda x: re.sub(r'\\s+', ' ', x))\n",
    "#turn the data into a dataset\n",
    "from datasets import Dataset\n",
    "dataset = Dataset.from_pandas(data)\n",
    "dataset = dataset.train_test_split(test_size=0.2)"
   ]
  },
  {
   "cell_type": "code",
   "execution_count": null,
   "metadata": {},
   "outputs": [],
   "source": [
    "#tokenize the data\n",
    "def process_data_to_model_inputs(batch):\n",
    "\n",
    "    # tokenize the inputs and labels\n",
    "    inputs = tokenizer(batch[\"question\"], padding=\"max_length\", truncation=True, max_length=max_length)\n",
    "    outputs = tokenizer(batch[\"answer\"], padding=\"max_length\", truncation=True, max_length=max_length)\n",
    "\n",
    "    batch[\"input_ids\"] = inputs.input_ids\n",
    "    batch[\"attention_mask\"] = inputs.attention_mask\n",
    "    batch[\"labels\"] = outputs.input_ids\n",
    "    batch[\"decoder_attention_mask\"] = outputs.attention_mask\n",
    "\n",
    "    return batch\n",
    "\n",
    "\n",
    "dataset = dataset.map(\n",
    "    process_data_to_model_inputs,\n",
    "    batched=True,\n",
    "    batch_size=batch_size,\n",
    "    remove_columns=[\"question\", \"answer\"]\n",
    ")"
   ]
  },
  {
   "cell_type": "code",
   "execution_count": null,
   "metadata": {},
   "outputs": [],
   "source": [
    "#load the model\n",
    "from sklearn import metrics\n",
    "from transformers import Seq2SeqTrainer, Seq2SeqTrainingArguments\n",
    "from transformers import EarlyStoppingCallback\n",
    "\n",
    "\n",
    "\n",
    "training_args = Seq2SeqTrainingArguments(\n",
    "    output_dir=\"./results\",\n",
    "    evaluation_strategy=\"steps\",\n",
    "    per_device_train_batch_size=batch_size,\n",
    "    per_device_eval_batch_size=batch_size,\n",
    "    predict_with_generate=True,\n",
    "    warmup_steps=500,\n",
    "    eval_steps=500,\n",
    "    max_steps=10000,\n",
    "    fp16=True\n",
    ")\n",
    "\n",
    "#use amp to train the model\n",
    "scaler = amp.GradScaler()\n",
    "trainer = Seq2SeqTrainer(\n",
    "    model=model,\n",
    "    tokenizer=tokenizer,\n",
    "    args=training_args,\n",
    "    train_dataset=dataset[\"train\"],\n",
    "    eval_dataset=dataset[\"test\"],\n",
    "    \n",
    "    )\n",
    "\n",
    "trainer.train()\n"
   ]
  },
  {
   "cell_type": "code",
   "execution_count": null,
   "metadata": {},
   "outputs": [],
   "source": [
    "\n",
    "model.save_pretrained('trained_model/small_helmet_418M')\n",
    "tokenizer.save_pretrained('trained_model/small_helmet_418M')\n"
   ]
  }
 ],
 "metadata": {
  "kernelspec": {
   "display_name": ".venv",
   "language": "python",
   "name": "python3"
  },
  "language_info": {
   "codemirror_mode": {
    "name": "ipython",
    "version": 3
   },
   "file_extension": ".py",
   "mimetype": "text/x-python",
   "name": "python",
   "nbconvert_exporter": "python",
   "pygments_lexer": "ipython3",
   "version": "3.9.7"
  }
 },
 "nbformat": 4,
 "nbformat_minor": 2
}
